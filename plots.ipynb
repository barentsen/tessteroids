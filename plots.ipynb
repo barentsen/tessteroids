{
 "cells": [
  {
   "cell_type": "code",
   "execution_count": 9,
   "metadata": {},
   "outputs": [],
   "source": [
    "import pandas as pd\n",
    "from astropy.time import Time\n",
    "from datetime import datetime\n",
    "import numpy as np\n",
    "from tqdm import tqdm\n",
    "import matplotlib.pyplot as plt\n",
    "plt.style.use('seaborn-white')"
   ]
  },
  {
   "cell_type": "code",
   "execution_count": 2,
   "metadata": {},
   "outputs": [],
   "source": [
    "from astropy.coordinates import SkyCoord\n",
    "import astropy.units as u"
   ]
  },
  {
   "cell_type": "code",
   "execution_count": null,
   "metadata": {
    "scrolled": false
   },
   "outputs": [],
   "source": [
    "fig, ax = plt.subplots(1)\n",
    "all_piv = None\n",
    "for camera in np.arange(1, 3):\n",
    "    piv = pd.read_pickle('piv_camera{}.p'.format(camera - 1))\n",
    "    c = SkyCoord(piv.index.get_level_values(1), piv.index.get_level_values(2), unit=(u.deg, u.deg))\n",
    "    objects = piv.index.get_level_values(0).unique()\n",
    "    mags = np.asarray([piv.Mv[piv.index.get_level_values(0) == obj].mean() for obj in objects])\n",
    "    length = np.asarray([(piv.index.get_level_values(0) == obj).sum()*0.5 for obj in objects])\n",
    "\n",
    "    plt.figure(figsize=(10, 10))\n",
    "    for obj, mag in zip(objects, mags):\n",
    "        c1 = c[piv.index.get_level_values(0) == obj]\n",
    "        plt.plot(c1.ra.value, c1.dec.value, c='k', lw= (19 - mag)/2, alpha=0.5)\n",
    "    plt.xlabel('RA [deg]', fontsize=20)\n",
    "    plt.ylabel('Declination [deg]', fontsize=20)\n",
    "    plt.title('TESS Sector 1 Camera {}'.format(camera), fontsize=25)\n",
    "\n",
    "    ax.hist(mags, label='Camera {}'.format(camera));\n",
    "    ax.set_ylabel(\"Frequency\", fontsize=15)\n",
    "    ax.set_xlabel('Object Magnitude', fontsize=15)\n",
    "    ax.legend()\n",
    "    if all_piv == None:\n",
    "        all_piv = piv\n",
    "    else:\n",
    "        all_piv = all_piv.append(piv)\n",
    "    break"
   ]
  },
  {
   "cell_type": "code",
   "execution_count": null,
   "metadata": {},
   "outputs": [],
   "source": [
    "objects = all_piv.index.get_level_values(0).unique()\n",
    "mags = np.asarray([all_piv.Mv[piv.index.get_level_values(0) == obj].mean() for obj in objects])\n",
    "length = np.asarray([(all_piv.index.get_level_values(0) == obj).sum()*0.5 for obj in objects])"
   ]
  },
  {
   "cell_type": "code",
   "execution_count": null,
   "metadata": {},
   "outputs": [],
   "source": [
    "print('{} known solar system objects will be observerd'.format(13 * ((mags < 200)).sum()))"
   ]
  },
  {
   "cell_type": "code",
   "execution_count": null,
   "metadata": {},
   "outputs": [],
   "source": [
    "print('{} Targets at 1% precision for 20 days or more'.format(13 * ((mags < 16) & (length > 20)).sum()))"
   ]
  },
  {
   "cell_type": "code",
   "execution_count": null,
   "metadata": {},
   "outputs": [],
   "source": [
    "print('{} Targets at 10% percent photometry precision for 20 days or more'.format(13 * ((mags < 18) & (length > 20)).sum()))"
   ]
  },
  {
   "cell_type": "code",
   "execution_count": null,
   "metadata": {},
   "outputs": [],
   "source": []
  }
 ],
 "metadata": {
  "kernelspec": {
   "display_name": "Python 3",
   "language": "python",
   "name": "python3"
  },
  "language_info": {
   "codemirror_mode": {
    "name": "ipython",
    "version": 3
   },
   "file_extension": ".py",
   "mimetype": "text/x-python",
   "name": "python",
   "nbconvert_exporter": "python",
   "pygments_lexer": "ipython3",
   "version": "3.6.7"
  }
 },
 "nbformat": 4,
 "nbformat_minor": 2
}
