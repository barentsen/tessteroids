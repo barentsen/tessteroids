{
 "cells": [
  {
   "cell_type": "code",
   "execution_count": 90,
   "metadata": {},
   "outputs": [],
   "source": [
    "import pandas as pd\n",
    "from astropy.time import Time\n",
    "from datetime import datetime\n",
    "import numpy as np\n",
    "from tqdm import tqdm\n",
    "import matplotlib.pyplot as plt"
   ]
  },
  {
   "cell_type": "code",
   "execution_count": 98,
   "metadata": {},
   "outputs": [],
   "source": [
    "from astropy.coordinates import SkyCoord\n",
    "import astropy.units as u"
   ]
  },
  {
   "cell_type": "code",
   "execution_count": 3,
   "metadata": {},
   "outputs": [],
   "source": [
    "df = pd.read_csv('tess_cycle_1.dat')"
   ]
  },
  {
   "cell_type": "code",
   "execution_count": null,
   "metadata": {},
   "outputs": [
    {
     "name": "stderr",
     "output_type": "stream",
     "text": [
      "\n",
      "  0%|          | 0/54 [00:00<?, ?it/s]\u001b[A\n",
      "Exception in thread Thread-9:\n",
      "Traceback (most recent call last):\n",
      "  File \"/Users/ch/miniconda3/lib/python3.6/threading.py\", line 916, in _bootstrap_inner\n",
      "    self.run()\n",
      "  File \"/Users/ch/miniconda3/lib/python3.6/site-packages/tqdm/_monitor.py\", line 63, in run\n",
      "    for instance in self.tqdm_cls._instances:\n",
      "  File \"/Users/ch/miniconda3/lib/python3.6/_weakrefset.py\", line 60, in __iter__\n",
      "    for itemref in self.data:\n",
      "RuntimeError: Set changed size during iteration\n",
      "\n",
      "100%|██████████| 54/54 [25:16<00:00, 28.08s/it]\n",
      " 72%|███████▏  | 39/54 [12:33<04:49, 19.33s/it]"
     ]
    }
   ],
   "source": [
    "for camera in np.arange(0, 4):\n",
    "    res = None\n",
    "    for dt in tqdm(np.arange(0, 27, 0.5)):\n",
    "        epoch =  Time(datetime.strptime(df.Start[0], '%m/%d/%y')).jd + dt\n",
    "        ra = df['Cam{}RA'.format(camera + 1)][0]\n",
    "        dec = df['Cam{}RA'.format(camera + 1)][0]\n",
    "        radius = 24\n",
    "        location = '000'\n",
    "\n",
    "        url = 'http://vo.imcce.fr/webservices/skybot/skybotconesearch_query.php?'\n",
    "        url += '-mime=text&'\n",
    "        url += '-ra={}&'.format(ra)\n",
    "        url += '-dec={}&'.format(dec)\n",
    "        url += '-bd={}&'.format(radius)\n",
    "        url += '-loc={}&'.format(location)\n",
    "        url += 'EPOCH={}'.format(epoch)\n",
    "\n",
    "        res1 = pd.read_csv(url, delimiter='|', skiprows=2)\n",
    "        res1.columns = [r.replace('#', '').strip() for r in res1.columns]\n",
    "        res1 = res1[res1.Mv < 18]\n",
    "        res1['epoch'] = epoch\n",
    "\n",
    "        if res is None:\n",
    "            res = res1\n",
    "        else:\n",
    "            res = res.append(res1)\n",
    "    piv = pd.pivot_table(res, index=['Name','RA(h)', 'DE(deg)', 'epoch'])\n",
    "    piv.to_pickle('piv_camera{}.p'.format(camera))"
   ]
  }
 ],
 "metadata": {
  "kernelspec": {
   "display_name": "Python 3",
   "language": "python",
   "name": "python3"
  },
  "language_info": {
   "codemirror_mode": {
    "name": "ipython",
    "version": 3
   },
   "file_extension": ".py",
   "mimetype": "text/x-python",
   "name": "python",
   "nbconvert_exporter": "python",
   "pygments_lexer": "ipython3",
   "version": "3.6.7"
  }
 },
 "nbformat": 4,
 "nbformat_minor": 2
}
